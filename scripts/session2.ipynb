{
 "cells": [
  {
   "cell_type": "code",
   "execution_count": 20,
   "metadata": {},
   "outputs": [],
   "source": [
    "import numpy as np\n",
    "import pandas as pd"
   ]
  },
  {
   "cell_type": "code",
   "execution_count": 21,
   "metadata": {},
   "outputs": [],
   "source": [
    "# Convert this table to dataframe\n",
    "\"\"\"\n",
    "Component, Failure frequency, Unit, Repair time, Unit\n",
    "EHV OHL, 0.00220, /cctkmy, 8, h\n",
    "EHV cable, 0.00120, /cctkmy, 730, h\n",
    "EHV joint, 0.00035, /compy, 730, h\n",
    "EHV termination, 0.00168, /compy, 730, h\n",
    "\"\"\"\n",
    "# Create a dataframe\n",
    "df = pd.DataFrame({\n",
    "    'Component': ['EHV_OHL', 'EHV_cable', 'EHV_joint', 'EHV_termination'],\n",
    "    'ff': [0.00220, 0.00120, 0.00035, 0.00168],\n",
    "    'ff_unit': ['/cctkmy', '/cctkmy', '/compy', '/compy'],\n",
    "    'mttr': [8, 730, 730, 730],\n",
    "    'mttr_unit': ['h', 'h', 'h', 'h']\n",
    "})"
   ]
  },
  {
   "cell_type": "code",
   "execution_count": 22,
   "metadata": {},
   "outputs": [
    {
     "name": "stdout",
     "output_type": "stream",
     "text": [
      "Dependent unavailability for OHL = 0.0018\n",
      "Dependent unavailability for UGC = 0.2358\n",
      "Dependent failure frequency for OHL = 0.0002\n",
      "Dependent failure frequency for UGC = 0.0003\n"
     ]
    }
   ],
   "source": [
    "# Calculate unavailability\n",
    "df['unavailability'] = df['ff'] * df['mttr']\n",
    "\n",
    "# Underground Cable Circuit unavailability is the sum of cable, joint and termination\n",
    "U_OHL = df.loc[df['Component'] == 'EHV_OHL', 'unavailability'].values[0]\n",
    "U_cable = df.loc[df['Component'] == 'EHV_cable', 'unavailability'].values[0]\n",
    "U_joint = df.loc[df['Component'] == 'EHV_joint', 'unavailability'].values[0]\n",
    "U_termination = df.loc[df['Component'] == 'EHV_termination', 'unavailability'].values[0]\n",
    "U_UGC = U_cable + U_joint + U_termination\n",
    "\n",
    "dependency_factor = 0.1\n",
    "\n",
    "# Calculate dependent unavailability\n",
    "U_dependent_OHL = U_OHL * dependency_factor\n",
    "U_dependent_UGC = U_UGC * dependency_factor\n",
    "\n",
    "print(\"Dependent unavailability for OHL = {:.4f}\".format(U_dependent_OHL))\n",
    "print(\"Dependent unavailability for UGC = {:.4f}\".format(U_dependent_UGC))\n",
    "\n",
    "# Calculate Dependent failure frequency\n",
    "OHL_dependent_ff = df.loc[df['Component'] == 'EHV_OHL', 'ff'].values[0] * dependency_factor\n",
    "\n",
    "# Sum the column 'ff' except for rows where 'Component' is 'EHV_OHL' and multiply by cc factor\n",
    "UGC_dependent_ff = df.loc[df['Component'] != 'EHV_OHL', 'ff'].sum() * dependency_factor\n",
    "\n",
    "print(f\"Dependent failure frequency for OHL = {OHL_dependent_ff:.4f}\")\n",
    "print(f\"Dependent failure frequency for UGC = {UGC_dependent_ff:.4f}\")"
   ]
  }
 ],
 "metadata": {
  "kernelspec": {
   "display_name": ".venv",
   "language": "python",
   "name": "python3"
  },
  "language_info": {
   "codemirror_mode": {
    "name": "ipython",
    "version": 3
   },
   "file_extension": ".py",
   "mimetype": "text/x-python",
   "name": "python",
   "nbconvert_exporter": "python",
   "pygments_lexer": "ipython3",
   "version": "3.9.5"
  },
  "orig_nbformat": 4
 },
 "nbformat": 4,
 "nbformat_minor": 2
}
