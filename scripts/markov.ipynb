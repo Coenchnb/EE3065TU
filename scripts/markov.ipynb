{
 "cells": [
  {
   "cell_type": "code",
   "execution_count": null,
   "metadata": {},
   "outputs": [],
   "source": [
    "import numpy as np\n",
    "import pandas as pd"
   ]
  },
  {
   "cell_type": "code",
   "execution_count": null,
   "metadata": {},
   "outputs": [],
   "source": [
    "# Main circuit\n",
    "lambda_main_circuit = 0.0696287\n",
    "mu_main_circuit = 12\n",
    "\n",
    "# Spare circuit\n",
    "spare_deploy_time_hours = 24\n",
    "spare_deploy_time_years = 24/(8760)\n",
    "\n",
    "mu_spare = 1/spare_deploy_time_years\n",
    "\n",
    "\n",
    "# Define lambdas and mews\n",
    "lmbda_circuit = 1\n",
    "lmbda_spare = 1\n",
    "mu_spare = 1\n",
    "mu_circuit = 1\n",
    "# Change\n",
    "\n"
   ]
  },
  {
   "cell_type": "code",
   "execution_count": null,
   "metadata": {},
   "outputs": [],
   "source": [
    "Q_matrix = np.array([[-2*lmbda_circuit, 2*lmbda_circuit, 0, 0, 0], \n",
    "                  [mew_circuit, -lmbda_circuit-mew_circuit-mew_spare, lmbda_circuit, mew_spare, 0],\n",
    "                  [0, 2*mew_circuit, -2*mew_circuit-mew_spare, 0, mew_spare],\n",
    "                  [0, lmbda_spare, 0, -lmbda_spare-lmbda_circuit, lmbda_circuit],\n",
    "                  [0, 0, lmbda_spare, 2*mew_circuit, -2*mew_circuit-lmbda_spare]\n",
    "                  ])\n",
    "\n",
    "b_vector = np.array([0, 0, 0, 0, 1])\n",
    "\n",
    "# Solve Q^T * b = c\n",
    "\n",
    "c_vector = np.linalg.solve(Q_matrix.transpose(), b_vector)"
   ]
  }
 ],
 "metadata": {
  "kernelspec": {
   "display_name": ".venv",
   "language": "python",
   "name": "python3"
  },
  "language_info": {
   "codemirror_mode": {
    "name": "ipython",
    "version": 3
   },
   "file_extension": ".py",
   "mimetype": "text/x-python",
   "name": "python",
   "nbconvert_exporter": "python",
   "pygments_lexer": "ipython3",
   "version": "3.8.10"
  },
  "orig_nbformat": 4
 },
 "nbformat": 4,
 "nbformat_minor": 2
}
