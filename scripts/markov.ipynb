{
 "cells": [
  {
   "cell_type": "code",
   "execution_count": 29,
   "metadata": {},
   "outputs": [],
   "source": [
    "import numpy as np\n",
    "import pandas as pd"
   ]
  },
  {
   "cell_type": "code",
   "execution_count": 30,
   "metadata": {},
   "outputs": [],
   "source": [
    "# Main circuit\n",
    "lambda_main = 0.0696287 # failure rate for main circuit\n",
    "mu_main = 12 # repair rate for main circuit\n",
    "\n",
    "# Spare circuit mu calculation (deployment rate)\n",
    "spare_deploy_time_hours = 24\n",
    "spare_deploy_time_years = 24/(8760)\n",
    "\n",
    "mu_spare = 1/spare_deploy_time_years\n",
    "\n",
    "\n",
    "\n"
   ]
  },
  {
   "cell_type": "code",
   "execution_count": 31,
   "metadata": {},
   "outputs": [
    {
     "name": "stdout",
     "output_type": "stream",
     "text": [
      "Probability of S0: 0.98849544412835\n",
      "Probability of S1: 0.00036507017079418446\n",
      "Probability of S2: 6.534540205958106e-08\n",
      "Probability of S3: 0.011106205284302425\n",
      "Probability of S4: 3.321507115128626e-05\n",
      "          Probability\n",
      "State 1  9.884954e-01\n",
      "State 2  3.650702e-04\n",
      "State 3  6.534540e-08\n",
      "State 4  1.110621e-02\n",
      "State 5  3.321507e-05\n",
      "Sum of probabilities:  Probability    1.0\n",
      "dtype: float64\n"
     ]
    }
   ],
   "source": [
    "Q = np.array([\n",
    "    [-2*lambda_main, 2*lambda_main, 0, 0, 0],\n",
    "    [mu_main, -mu_main - mu_spare - lambda_main, lambda_main, mu_spare, 0],\n",
    "    [0, 2*mu_main, -2*mu_main - mu_spare, 0, mu_spare],\n",
    "    [mu_main, 0, 0, -mu_main - lambda_main, lambda_main],\n",
    "    [0, 0, 0, 2*mu_main, -2*mu_main]\n",
    "])\n",
    "\n",
    "# Q^T\n",
    "QT = np.transpose(Q)\n",
    "\n",
    "# Replace bottom row with 1s\n",
    "QT[4] = np.array([1, 1, 1, 1, 1])\n",
    "\n",
    "P = np.array([0, 0, 0, 0, 1])\n",
    "\n",
    "x = np.linalg.solve(QT, P)\n",
    "\n",
    "print(\"Probability of S0:\", x[0])\n",
    "print(\"Probability of S1:\", x[1])\n",
    "print(\"Probability of S2:\", x[2])\n",
    "print(\"Probability of S3:\", x[3])\n",
    "print(\"Probability of S4:\", x[4])\n",
    "\n",
    "df = pd.DataFrame(x, columns=['Probability'], index=['State 1', 'State 2', 'State 3', 'State 4', 'State 5'])\n",
    "print(df)\n",
    "\n",
    "# Print sum of probabilities\n",
    "print(\"Sum of probabilities: \", df.sum())\n"
   ]
  }
 ],
 "metadata": {
  "kernelspec": {
   "display_name": ".venv",
   "language": "python",
   "name": "python3"
  },
  "language_info": {
   "codemirror_mode": {
    "name": "ipython",
    "version": 3
   },
   "file_extension": ".py",
   "mimetype": "text/x-python",
   "name": "python",
   "nbconvert_exporter": "python",
   "pygments_lexer": "ipython3",
   "version": "3.8.10"
  },
  "orig_nbformat": 4
 },
 "nbformat": 4,
 "nbformat_minor": 2
}
