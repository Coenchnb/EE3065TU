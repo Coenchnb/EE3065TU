{
 "cells": [
  {
   "cell_type": "code",
   "execution_count": null,
   "metadata": {},
   "outputs": [],
   "source": [
    "import pandas as pd\n",
    "import numpy as np\n",
    "import matplotlib.pyplot as plt\n",
    "from scipy.optimize import curve_fit\n",
    "import plotly.graph_objects as go \n",
    "\n",
    "def exponential(t, b):\n",
    "    return np.exp(-b*np.asarray(t))\n",
    "\n",
    "def polynomial(t, m, n ,o ,p):\n",
    "    return m*t + n*t**2 + o*t**3 + p*t**4\n",
    "\n",
    "def exponential_linear_comb(t, c, T1, T2):\n",
    "    return c*np.exp(-np.asarray(t)/T1) + (1-c)*np.exp(-np.asarray(t)/T2)\n",
    "\n",
    "df = pd.read_csv(\"./data/repair_times_OHL.csv\")\n",
    "data = df['Repair Times'].values.tolist()\n",
    "#the data as extracted from the .csv will likely need to be reversed \n",
    "data.reverse()\n",
    "\n",
    "Ft = np.arange(0,1.00001,1/(len(data)-1)) #this sets up a range of values for the repair time axis\n",
    "x_axis = np.arange(0,data[0]+0.00001,0.1) #sets up an x_axis\n",
    "\n",
    "params_comb, cov_comb = curve_fit(exponential_linear_comb, data, Ft)\n",
    "params, covariances = curve_fit(exponential, data, Ft) #you only really care about the params, which\n",
    "# are the variables you set in the mathematical function you defined\n",
    "plt.scatter(data, Ft)\n",
    "plt.plot(x_axis, exponential_linear_comb(x_axis, *params_comb), '--') #this will compare the data and the\n",
    "# curve produced by the curve_fit function so you can judge how well it fits"
   ]
  },
  {
   "cell_type": "code",
   "execution_count": null,
   "metadata": {},
   "outputs": [],
   "source": [
    "# x_axis = np.arange(0, len(data))  # Use the length of data as the range\n",
    "params_poly, covariances_poly, = curve_fit(polynomial, data, Ft) \n",
    "params_comb, cov_comb = curve_fit(exponential_linear_comb, data, Ft)\n",
    "\n",
    "\n",
    "# Plot using plotly\n",
    "fig = go.Figure()\n",
    "fig.add_trace(go.Scatter(x=data, y=Ft, mode='markers', name='data'))\n",
    "fig.add_trace(go.Scatter(x=x_axis, y=polynomial(x_axis, *params_poly), mode='lines', name='poly'))\n",
    "fig.add_trace(go.Scatter(x=x_axis, y=exponential(x_axis, *params), mode='lines', name='exp'))\n",
    "fig.add_trace(go.Scatter(x=x_axis, y=exponential_linear_comb(x_axis, *params_comb), mode='lines', name='comb exp'))\n",
    "fig.update_layout(title='Polynomial Fit', xaxis_title='Repair Time', yaxis_title='F(t)')\n",
    "\n",
    "fig.update_layout(width=800, height=800)\n",
    "fig.show()\n",
    "fig.write_image(\"./plots/exp_curves.png\")\n",
    "\n",
    "print(params_comb)\n",
    "# Print mean square error of exponential_linear_comb\n",
    "print(\"Mean Square Error of Exponential Linear Combination: \", np.mean((exponential_linear_comb(data, *params_comb) - Ft)**2))\n",
    "# Print mean square error of exponential\n",
    "print(\"Mean Square Error of Exponential: \", np.mean((exponential(data, *params) - Ft)**2))\n"
   ]
  }
 ],
 "metadata": {
  "kernelspec": {
   "display_name": ".venv",
   "language": "python",
   "name": "python3"
  },
  "language_info": {
   "codemirror_mode": {
    "name": "ipython",
    "version": 3
   },
   "file_extension": ".py",
   "mimetype": "text/x-python",
   "name": "python",
   "nbconvert_exporter": "python",
   "pygments_lexer": "ipython3",
   "version": "3.9.5"
  },
  "orig_nbformat": 4
 },
 "nbformat": 4,
 "nbformat_minor": 2
}
